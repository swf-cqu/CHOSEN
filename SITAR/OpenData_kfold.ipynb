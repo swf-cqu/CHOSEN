{
 "cells": [
  {
   "cell_type": "code",
   "execution_count": 61,
   "metadata": {
    "collapsed": true,
    "pycharm": {
     "name": "#%%\n"
    }
   },
   "outputs": [],
   "source": [
    "import json\n",
    "import os\n",
    "import numpy as np\n",
    "from sklearn.metrics import accuracy_score\n",
    "from sklearn.metrics import precision_score\n",
    "from sklearn.metrics import recall_score"
   ]
  },
  {
   "cell_type": "code",
   "execution_count": 62,
   "outputs": [
    {
     "data": {
      "text/plain": "'5f6435aed3d6800b5780b6a3'"
     },
     "execution_count": 62,
     "metadata": {},
     "output_type": "execute_result"
    }
   ],
   "source": [
    "category_name=r\"E:\\Data\\Sitar-project\\experiment_data\\flink\"\n",
    "\n",
    "fileList=os.listdir(category_name);\n",
    "fileList[0][0:fileList[0].index('.')]"
   ],
   "metadata": {
    "collapsed": false,
    "pycharm": {
     "name": "#%%\n"
    }
   }
  },
  {
   "cell_type": "code",
   "execution_count": 63,
   "outputs": [],
   "source": [
    "# fileList=sorted(fileList,key=lambda x: int(x[0:x.index('.')]))"
   ],
   "metadata": {
    "collapsed": false,
    "pycharm": {
     "name": "#%%\n"
    }
   }
  },
  {
   "cell_type": "code",
   "execution_count": 64,
   "outputs": [],
   "source": [
    "data=[]\n",
    "target=[]\n",
    "fileName=[]\n",
    "def SplitFromFile(file_name):\n",
    "    with open(os.path.join(category_name, file_name), encoding='UTF-8') as fp:\n",
    "        dic = json.load(fp)\n",
    "        # print(dic)\n",
    "        a = [\n",
    "             dic[\"add_annotation_line\"]\n",
    "            , dic[\"add_call_line\"]\n",
    "            , dic[\"add_classname_line\"]\n",
    "            , dic[\"add_condition_line\"]\n",
    "            , dic[\"add_field_line\"]\n",
    "            , dic[\"add_import_line\"]\n",
    "            , dic[\"add_packageid_line\"]\n",
    "            , dic[\"add_parameter_line\"]\n",
    "            , dic[\"add_return_line\"]\n",
    "            , dic[\"del_annotation_line\"]\n",
    "            , dic[\"del_call_line\"]\n",
    "            , dic[\"del_classname_line\"]\n",
    "            , dic[\"del_condition_line\"]\n",
    "            , dic[\"del_field_line\"]\n",
    "            , dic[\"del_import_line\"]\n",
    "            , dic[\"del_packageid_line\"]\n",
    "            , dic[\"del_parameter_line\"]\n",
    "            , dic[\"del_return_line\"]\n",
    "        ]\n",
    "        #label = 0 if dic['label'] == \"NEGATIVE\" else 1\n",
    "        label = 0 if dic['sample_type'] == \"NEGATIVE\" else 1\n",
    "        target.append(label)\n",
    "        data.append(a)\n",
    "        fileName.append(os.path.join(category_name, file_name))\n",
    "\n",
    "\n",
    "for file_name in fileList:\n",
    "    SplitFromFile(file_name)"
   ],
   "metadata": {
    "collapsed": false,
    "pycharm": {
     "name": "#%%\n"
    }
   }
  },
  {
   "cell_type": "code",
   "execution_count": 65,
   "outputs": [
    {
     "name": "stdout",
     "output_type": "stream",
     "text": [
      "Counter({0: 1467, 1: 961})\n"
     ]
    }
   ],
   "source": [
    "from collections import Counter\n",
    "count=Counter(name[1] for name in zip(data,target,fileName))\n",
    "print(count)"
   ],
   "metadata": {
    "collapsed": false,
    "pycharm": {
     "name": "#%%\n"
    }
   }
  },
  {
   "cell_type": "code",
   "execution_count": 66,
   "outputs": [
    {
     "data": {
      "text/plain": "array([1, 1, 1, ..., 0, 0, 0])"
     },
     "execution_count": 66,
     "metadata": {},
     "output_type": "execute_result"
    }
   ],
   "source": [
    "# from sklearn import preprocessing\n",
    "\n",
    "data=np.array(data)\n",
    "target=np.array(target)\n",
    "# preprocessing.scale(data)\n",
    "target"
   ],
   "metadata": {
    "collapsed": false,
    "pycharm": {
     "name": "#%%\n"
    }
   }
  },
  {
   "cell_type": "code",
   "execution_count": 67,
   "outputs": [],
   "source": [
    "from collections import Counter\n",
    "from imblearn.under_sampling import RandomUnderSampler\n",
    "rus = RandomUnderSampler(random_state=0)\n",
    "data, target = rus.fit_resample(data, target)\n",
    "# print(data.shape,target.shape)\n",
    "# print(sorted(Counter(target).items()))"
   ],
   "metadata": {
    "collapsed": false,
    "pycharm": {
     "name": "#%%\n"
    }
   }
  },
  {
   "cell_type": "code",
   "execution_count": 68,
   "outputs": [],
   "source": [
    "from sklearn.ensemble import RandomForestClassifier\n",
    "from sklearn.model_selection import train_test_split\n",
    "from sklearn.model_selection import cross_val_score\n",
    "from sklearn.model_selection import StratifiedKFold, KFold"
   ],
   "metadata": {
    "collapsed": false,
    "pycharm": {
     "name": "#%%\n"
    }
   }
  },
  {
   "cell_type": "code",
   "execution_count": 69,
   "outputs": [
    {
     "name": "stdout",
     "output_type": "stream",
     "text": [
      "(1922, 18) (1922,)\n",
      "Accuracy 0.8324589810017271\n",
      "Precision 0.8330015583613841\n",
      "Recall 0.8311615561780179\n"
     ]
    }
   ],
   "source": [
    "model=RandomForestClassifier()\n",
    "#xtrain,xtest,ytrain,ytest=train_test_split(data,target,test_size=0.2);\n",
    "#print(xtrain.shape,xtest.shape,ytrain.shape,ytest.shape)\n",
    "\n",
    "\n",
    "skf = KFold(n_splits=10,shuffle=True)\n",
    "print(data.shape,target.shape)\n",
    "accuracy=[]\n",
    "precision=[]\n",
    "recall=[]\n",
    "for train, test in skf.split(data, target):\n",
    "    x_train,y_train=np.array([data[i] for i in train]),np.array([target[i] for i in train])\n",
    "    x_test,y_test=np.array([data[i] for i in test]),np.array([target[i] for i in test])\n",
    "    model=RandomForestClassifier()\n",
    "    model.fit(x_train,y_train)\n",
    "    y_pred=model.predict(x_test)\n",
    "    accuracy.append(accuracy_score(y_test, y_pred))\n",
    "    precision.append(precision_score(y_test,y_pred))\n",
    "    recall.append(recall_score(y_test,y_pred))\n",
    "\n",
    "#scores = cross_val_score(model, data, target, cv=10)\n",
    "\n",
    "print(\"Accuracy\",np.array(accuracy).mean())\n",
    "print(\"Precision\",np.array(precision).mean())\n",
    "print(\"Recall\",np.array(recall).mean())"
   ],
   "metadata": {
    "collapsed": false,
    "pycharm": {
     "name": "#%%\n"
    }
   }
  },
  {
   "cell_type": "code",
   "execution_count": 70,
   "outputs": [],
   "source": [
    "\n",
    "\n",
    "# total_sum=0\n",
    "# for i in range(10):\n",
    "#     model.fit(xtrain,ytrain)\n",
    "#     score=model.score(xtest,ytest)\n",
    "#     print(\"The single of :\", score)\n",
    "#     total_sum+=score\n",
    "# print(\"The average of :\", total_sum/10)"
   ],
   "metadata": {
    "collapsed": false,
    "pycharm": {
     "name": "#%%\n"
    }
   }
  },
  {
   "cell_type": "code",
   "execution_count": 70,
   "outputs": [],
   "source": [],
   "metadata": {
    "collapsed": false,
    "pycharm": {
     "name": "#%%\n"
    }
   }
  }
 ],
 "metadata": {
  "kernelspec": {
   "display_name": "Python 3",
   "language": "python",
   "name": "python3"
  },
  "language_info": {
   "codemirror_mode": {
    "name": "ipython",
    "version": 2
   },
   "file_extension": ".py",
   "mimetype": "text/x-python",
   "name": "python",
   "nbconvert_exporter": "python",
   "pygments_lexer": "ipython2",
   "version": "2.7.6"
  }
 },
 "nbformat": 4,
 "nbformat_minor": 0
}