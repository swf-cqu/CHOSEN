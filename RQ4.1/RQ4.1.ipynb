{
 "cells": [
  {
   "cell_type": "code",
   "execution_count": 43,
   "source": [],
   "outputs": [],
   "metadata": {
    "collapsed": true
   }
  },
  {
   "cell_type": "code",
   "execution_count": 44,
   "source": [
    "import json\r\n",
    "import os\r\n",
    "import numpy as np\r\n",
    "from sklearn.ensemble import RandomForestClassifier\r\n",
    "from sklearn import preprocessing\r\n",
    "from sklearn.metrics import accuracy_score\r\n",
    "from sklearn.metrics import precision_score\r\n",
    "from sklearn.metrics import recall_score\r\n",
    "import json"
   ],
   "outputs": [],
   "metadata": {
    "collapsed": false,
    "pycharm": {
     "name": "#%%\n"
    }
   }
  },
  {
   "cell_type": "code",
   "execution_count": 45,
   "source": [
    "def splitFromFile(category_name, sample_type):\r\n",
    "    ''' Get the Features and label from the JSON file\r\n",
    "\r\n",
    "    :param category_name: The path of Train or Test\r\n",
    "    :param sample_type: The concrete content of file\r\n",
    "    :return: data[] and target[]\r\n",
    "    '''\r\n",
    "\r\n",
    "    target = []\r\n",
    "    data = []\r\n",
    "    category_name=os.path.join(category_name,sample_type)\r\n",
    "    file_list = os.listdir(category_name)\r\n",
    "    file_list = sorted(file_list, key=lambda x: int(x[0:x.index('.')]))\r\n",
    "    for _ in file_list:\r\n",
    "        with open(os.path.join(category_name,_), encoding='UTF-8') as fp:\r\n",
    "            dic = json.load(fp)  # The size of content is only a line\r\n",
    "            a = [\r\n",
    "                  dic[\"add_annotation_line\"]\r\n",
    "                , dic[\"add_call_line\"]\r\n",
    "                , dic[\"add_classname_line\"]\r\n",
    "                , dic[\"add_condition_line\"]\r\n",
    "                , dic[\"add_field_line\"]\r\n",
    "                , dic[\"add_import_line\"]\r\n",
    "                , dic[\"add_packageid_line\"]\r\n",
    "                , dic[\"add_parameter_line\"]\r\n",
    "                , dic[\"add_return_line\"]\r\n",
    "                , dic[\"del_annotation_line\"]\r\n",
    "                , dic[\"del_call_line\"]\r\n",
    "                , dic[\"del_classname_line\"]\r\n",
    "                , dic[\"del_condition_line\"]\r\n",
    "                , dic[\"del_field_line\"]\r\n",
    "                , dic[\"del_import_line\"]\r\n",
    "                , dic[\"del_packageid_line\"]\r\n",
    "                , dic[\"del_parameter_line\"]\r\n",
    "                , dic[\"del_return_line\"]\r\n",
    "            ]\r\n",
    "            label = 0 if dic['label'] == \"NEGATIVE\" else 1\r\n",
    "            target.append(label)\r\n",
    "            data.append(a)\r\n",
    "            if sample_type==\"TestSample\" or sample_type==\"TestSample_Rule\":\r\n",
    "                if dic[\"true_label\"] is not None:\r\n",
    "                    target_true.append(0 if dic['true_label'] == \"NEGATIVE\" else 1)\r\n",
    "                else:\r\n",
    "                    raise Exception(\"The true_label is null\", _)\r\n",
    "    return data, target"
   ],
   "outputs": [],
   "metadata": {
    "collapsed": false,
    "pycharm": {
     "name": "#%%\n"
    }
   }
  },
  {
   "cell_type": "code",
   "execution_count": 45,
   "source": [],
   "outputs": [],
   "metadata": {
    "collapsed": false,
    "pycharm": {
     "name": "#%%\n"
    }
   }
  },
  {
   "cell_type": "code",
   "execution_count": 46,
   "source": [
    "def train(x_train,y_train):\r\n",
    "    #print(len(x_train), len(x_test))\r\n",
    "    model=RandomForestClassifier()\r\n",
    "    model.fit(x_train,y_train)\r\n",
    "    return model\r\n",
    "\r\n",
    "if __name__==\"__main__\":\r\n",
    "\r\n",
    "    '''\r\n",
    "    RQ4.1\r\n",
    "    '''\r\n",
    "    target_true=[]\r\n",
    "\r\n",
    "    project_path=r\"E:\\Project_Code\\JustInTestPro\\Feature_Sample\\logging-log4j2\"\r\n",
    "    x_train,y_train=splitFromFile(project_path,\"Train\")\r\n",
    "\r\n",
    "    try:\r\n",
    "        x_test,y_test=splitFromFile(project_path,\"TestSample_Rule\")\r\n",
    "    except Exception as ep:\r\n",
    "        print(ep.__repr__())\r\n",
    "\r\n",
    "    preprocessing.scale(x_train)\r\n",
    "    preprocessing.scale(x_test)\r\n",
    "    total_sum=0\r\n",
    "    times=10\r\n",
    "    accuracyList1=[]\r\n",
    "    precisionList1=[]\r\n",
    "    recallList1=[]\r\n",
    "    accuracyList2=[]\r\n",
    "    precisionList2=[]\r\n",
    "    recallList2=[]\r\n",
    "    for i in range(times):\r\n",
    "        model=train(x_train,y_train)\r\n",
    "        print(len(x_train))\r\n",
    "        y_pred=model.predict(x_test)\r\n",
    "        accuracyList1.append(accuracy_score(y_test, y_pred))\r\n",
    "        precisionList1.append(precision_score(y_test,y_pred))\r\n",
    "        recallList1.append(recall_score(y_test,y_pred))\r\n",
    "        accuracyList2.append(accuracy_score(target_true, y_pred))\r\n",
    "        precisionList2.append(precision_score(target_true,y_pred))\r\n",
    "        recallList2.append(recall_score(target_true,y_pred))\r\n",
    "    for i in zip(accuracyList2,precisionList2,recallList2):\r\n",
    "        print(\"The True Accuracy is {:.2%}; The True Precision is {:.2%}; The True Recall is {:.2%}\".format(\r\n",
    "            *i\r\n",
    "        ))\r\n",
    "    print(\"The average True Accuracy is {:.2%}; The True average Precision is {:.2%}; The True average Recall is {:.2%}\".format(\r\n",
    "        sum(accuracyList2)/times, sum(precisionList2)/times, sum(recallList2)/times)\r\n",
    "    )\r\n",
    "    print(len(target_true))"
   ],
   "outputs": [
    {
     "output_type": "stream",
     "name": "stdout",
     "text": [
      "Only one UnderSample\n",
      "3283\n",
      "3283\n",
      "3283\n",
      "3283\n",
      "3283\n",
      "3283\n",
      "3283\n",
      "3283\n",
      "3283\n",
      "3283\n",
      "The Accuracy is 55.34%; The Precision is 56.12%; The Recall is 58.21%\n",
      "The Accuracy is 56.49%; The Precision is 57.14%; The Recall is 59.70%\n",
      "The Accuracy is 57.63%; The Precision is 58.27%; The Recall is 60.45%\n",
      "The Accuracy is 56.87%; The Precision is 57.45%; The Recall is 60.45%\n",
      "The Accuracy is 58.02%; The Precision is 58.22%; The Recall is 63.43%\n",
      "The Accuracy is 55.73%; The Precision is 56.43%; The Recall is 58.96%\n",
      "The Accuracy is 57.25%; The Precision is 57.86%; The Recall is 60.45%\n",
      "The Accuracy is 56.49%; The Precision is 56.94%; The Recall is 61.19%\n",
      "The Accuracy is 57.63%; The Precision is 58.27%; The Recall is 60.45%\n",
      "The Accuracy is 58.02%; The Precision is 58.57%; The Recall is 61.19%\n",
      "The True Accuracy is 58.40%; The True Precision is 47.48%; The True Recall is 64.71%\n",
      "The True Accuracy is 58.78%; The True Precision is 47.86%; The True Recall is 65.69%\n",
      "The True Accuracy is 59.92%; The True Precision is 48.92%; The True Recall is 66.67%\n",
      "The True Accuracy is 59.16%; The True Precision is 48.23%; The True Recall is 66.67%\n",
      "The True Accuracy is 58.78%; The True Precision is 47.95%; The True Recall is 68.63%\n",
      "The True Accuracy is 58.78%; The True Precision is 47.86%; The True Recall is 65.69%\n",
      "The True Accuracy is 61.07%; The True Precision is 50.00%; The True Recall is 68.63%\n",
      "The True Accuracy is 58.78%; The True Precision is 47.92%; The True Recall is 67.65%\n",
      "The True Accuracy is 59.92%; The True Precision is 48.92%; The True Recall is 66.67%\n",
      "The True Accuracy is 61.07%; The True Precision is 50.00%; The True Recall is 68.63%\n",
      "The average Accuracy is 56.95%; The average Precision is 57.53%; The average Recall is 60.45%\n",
      "The average True Accuracy is 59.47%; The True average Precision is 48.51%; The True average Recall is 66.96%\n",
      "262\n"
     ]
    }
   ],
   "metadata": {
    "collapsed": false,
    "pycharm": {
     "name": "#%%\n"
    }
   }
  },
  {
   "cell_type": "code",
   "execution_count": 46,
   "source": [],
   "outputs": [],
   "metadata": {
    "collapsed": false,
    "pycharm": {
     "name": "#%%\n"
    }
   }
  }
 ],
 "metadata": {
  "kernelspec": {
   "display_name": "Python 3",
   "language": "python",
   "name": "python3"
  },
  "language_info": {
   "codemirror_mode": {
    "name": "ipython",
    "version": 2
   },
   "file_extension": ".py",
   "mimetype": "text/x-python",
   "name": "python",
   "nbconvert_exporter": "python",
   "pygments_lexer": "ipython2",
   "version": "2.7.6"
  }
 },
 "nbformat": 4,
 "nbformat_minor": 2
}